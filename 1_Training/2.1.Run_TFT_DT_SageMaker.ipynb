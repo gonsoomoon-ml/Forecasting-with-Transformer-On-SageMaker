{
 "cells": [
  {
   "cell_type": "markdown",
   "id": "4b27d946-a068-458a-9a19-a4e1f4abfcf0",
   "metadata": {
    "tags": []
   },
   "source": [
    "# [모듈 2.1] 세이지메이커에서 분산 훈련 하기\n",
    "\n",
    "이 노트북은 커널을 'conda_python3' 를 사용합니다."
   ]
  },
  {
   "cell_type": "markdown",
   "id": "7444f2fd-db36-4489-a066-8bca587dc171",
   "metadata": {},
   "source": [
    "# 1. 환경 설정\n"
   ]
  },
  {
   "cell_type": "markdown",
   "id": "27b9bd08-1fe9-4306-ae4b-8cd0a99ac564",
   "metadata": {},
   "source": [
    "## 기본 세팅\n",
    "사용하는 패키지는 import 시점에 다시 재로딩 합니다."
   ]
  },
  {
   "cell_type": "code",
   "execution_count": 1,
   "id": "e5e68172-0ed2-448b-ad99-0659323e4848",
   "metadata": {},
   "outputs": [],
   "source": [
    "%load_ext autoreload\n",
    "%autoreload 2\n",
    "\n",
    "import sys\n",
    "sys.path.append('./scripts')"
   ]
  },
  {
   "cell_type": "markdown",
   "id": "772a23fa-eee6-4b29-945e-751105551487",
   "metadata": {},
   "source": [
    "## 파라미터 세팅"
   ]
  },
  {
   "cell_type": "code",
   "execution_count": 2,
   "id": "f41139d8-0a16-4a4b-874e-895745acd082",
   "metadata": {},
   "outputs": [
    {
     "name": "stdout",
     "output_type": "stream",
     "text": [
      "num_gpus:  8\n",
      "epochs:  2\n"
     ]
    }
   ],
   "source": [
    "import torch\n",
    "import os\n",
    "\n",
    "epochs = 2\n",
    "num_gpus = torch.cuda.device_count()\n",
    "# model_dir = 'model'\n",
    "# num_gpus = 4\n",
    "# train_notebook = True\n",
    "\n",
    "print(\"num_gpus: \", num_gpus)\n",
    "print(\"epochs: \", epochs)\n",
    "\n"
   ]
  },
  {
   "cell_type": "code",
   "execution_count": 3,
   "id": "a2c0eafa-d780-44aa-89da-6934f675e993",
   "metadata": {},
   "outputs": [],
   "source": [
    "# if train_notebook:\n",
    "\n",
    "\n",
    "#     os.makedirs(model_dir, exist_ok=True)\n",
    "        \n",
    "#     src_dir = os.getcwd()\n",
    "#     os.environ['SM_MODEL_DIR'] = f'{src_dir}/{model_dir}'\n",
    "#     os.environ['SM_NUM_GPUS'] = str(num_gpus)\n",
    "    "
   ]
  },
  {
   "cell_type": "code",
   "execution_count": 4,
   "id": "fd10e802-d86c-4019-8949-6636b7ba13c2",
   "metadata": {},
   "outputs": [
    {
     "name": "stdout",
     "output_type": "stream",
     "text": [
      "Overwriting scripts/requirements.txt\n"
     ]
    }
   ],
   "source": [
    "%%writefile scripts/requirements.txt\n",
    "\n",
    "pytorch-forecasting==0.10.3\n",
    "pytorch_lightning==1.9.0\n",
    "# Use the torch version\n",
    "# torch==1.12.1"
   ]
  },
  {
   "cell_type": "markdown",
   "id": "a28bcda9-79ef-4f79-9721-ee13e2618439",
   "metadata": {},
   "source": [
    "# 2. 세이지 메이크 로컬 모드 훈련\n",
    "#### 로컬의 GPU, CPU 여부로 instance_type 결정"
   ]
  },
  {
   "cell_type": "code",
   "execution_count": 5,
   "id": "07a8e179-f1a7-40b3-a275-fcba9bf11ede",
   "metadata": {},
   "outputs": [
    {
     "name": "stdout",
     "output_type": "stream",
     "text": [
      "Sat Mar  4 08:38:00 2023       \n",
      "+-----------------------------------------------------------------------------+\n",
      "| NVIDIA-SMI 510.47.03    Driver Version: 510.47.03    CUDA Version: 11.6     |\n",
      "|-------------------------------+----------------------+----------------------+\n",
      "| GPU  Name        Persistence-M| Bus-Id        Disp.A | Volatile Uncorr. ECC |\n",
      "| Fan  Temp  Perf  Pwr:Usage/Cap|         Memory-Usage | GPU-Util  Compute M. |\n",
      "|                               |                      |               MIG M. |\n",
      "|===============================+======================+======================|\n",
      "|   0  Tesla V100-SXM2...  On   | 00000000:00:17.0 Off |                    0 |\n",
      "| N/A   30C    P0    41W / 300W |      3MiB / 16384MiB |      0%      Default |\n",
      "|                               |                      |                  N/A |\n",
      "+-------------------------------+----------------------+----------------------+\n",
      "|   1  Tesla V100-SXM2...  On   | 00000000:00:18.0 Off |                    0 |\n",
      "| N/A   28C    P0    40W / 300W |      3MiB / 16384MiB |      0%      Default |\n",
      "|                               |                      |                  N/A |\n",
      "+-------------------------------+----------------------+----------------------+\n",
      "|   2  Tesla V100-SXM2...  On   | 00000000:00:19.0 Off |                    0 |\n",
      "| N/A   30C    P0    40W / 300W |      3MiB / 16384MiB |      0%      Default |\n",
      "|                               |                      |                  N/A |\n",
      "+-------------------------------+----------------------+----------------------+\n",
      "|   3  Tesla V100-SXM2...  On   | 00000000:00:1A.0 Off |                    0 |\n",
      "| N/A   30C    P0    41W / 300W |      3MiB / 16384MiB |      0%      Default |\n",
      "|                               |                      |                  N/A |\n",
      "+-------------------------------+----------------------+----------------------+\n",
      "|   4  Tesla V100-SXM2...  On   | 00000000:00:1B.0 Off |                    0 |\n",
      "| N/A   29C    P0    41W / 300W |      3MiB / 16384MiB |      0%      Default |\n",
      "|                               |                      |                  N/A |\n",
      "+-------------------------------+----------------------+----------------------+\n",
      "|   5  Tesla V100-SXM2...  On   | 00000000:00:1C.0 Off |                    0 |\n",
      "| N/A   28C    P0    42W / 300W |      3MiB / 16384MiB |      0%      Default |\n",
      "|                               |                      |                  N/A |\n",
      "+-------------------------------+----------------------+----------------------+\n",
      "|   6  Tesla V100-SXM2...  On   | 00000000:00:1D.0 Off |                    0 |\n",
      "| N/A   28C    P0    42W / 300W |      3MiB / 16384MiB |      0%      Default |\n",
      "|                               |                      |                  N/A |\n",
      "+-------------------------------+----------------------+----------------------+\n",
      "|   7  Tesla V100-SXM2...  On   | 00000000:00:1E.0 Off |                    0 |\n",
      "| N/A   29C    P0    41W / 300W |      3MiB / 16384MiB |      0%      Default |\n",
      "|                               |                      |                  N/A |\n",
      "+-------------------------------+----------------------+----------------------+\n",
      "                                                                               \n",
      "+-----------------------------------------------------------------------------+\n",
      "| Processes:                                                                  |\n",
      "|  GPU   GI   CI        PID   Type   Process name                  GPU Memory |\n",
      "|        ID   ID                                                   Usage      |\n",
      "|=============================================================================|\n",
      "|  No running processes found                                                 |\n",
      "+-----------------------------------------------------------------------------+\n",
      "Instance type = local_gpu\n"
     ]
    }
   ],
   "source": [
    "import os\n",
    "import subprocess\n",
    "\n",
    "\n",
    "try:\n",
    "    if subprocess.call(\"nvidia-smi\") == 0:\n",
    "        ## Set type to GPU if one is present\n",
    "        instance_type = \"local_gpu\"\n",
    "    else:\n",
    "        instance_type = \"local\"        \n",
    "except:\n",
    "    pass\n",
    "\n",
    "print(\"Instance type = \" + instance_type)"
   ]
  },
  {
   "cell_type": "code",
   "execution_count": 6,
   "id": "97204ea5-68c0-4f1e-8dec-0318772d38a0",
   "metadata": {},
   "outputs": [],
   "source": [
    "import sagemaker\n",
    "\n",
    "sagemaker.__version__\n",
    "\n",
    "# sagemaker_session = sagemaker.Session()\n",
    "role = sagemaker.get_execution_role()"
   ]
  },
  {
   "cell_type": "markdown",
   "id": "3e25ed9c-3f2a-40b1-ae9b-6ec7b8b8687f",
   "metadata": {},
   "source": [
    "## 2.4. 로컬 모드로 훈련 실행\n",
    "- 아래의 두 라인이 로컬모드로 훈련을 지시 합니다.\n",
    "```python\n",
    "    instance_type=instance_type, # local_gpu or local 지정\n",
    "    session = sagemaker.LocalSession(), # 로컬 세션을 사용합니다.\n",
    "```"
   ]
  },
  {
   "cell_type": "code",
   "execution_count": 7,
   "id": "bdb1893b-20a3-4867-bdac-eec5206e1867",
   "metadata": {},
   "outputs": [],
   "source": [
    "hyperparameters = {'epochs': epochs, \n",
    "                   'n_gpus': num_gpus,\n",
    "                    }  "
   ]
  },
  {
   "cell_type": "code",
   "execution_count": 8,
   "id": "2e76fe8b-e1ed-4438-8d2d-3a662f37c558",
   "metadata": {
    "tags": []
   },
   "outputs": [
    {
     "name": "stdout",
     "output_type": "stream",
     "text": [
      "Creating 592rjcqvcx-algo-1-50ulu ... \n",
      "Creating 592rjcqvcx-algo-1-50ulu ... done\n",
      "Attaching to 592rjcqvcx-algo-1-50ulu\n",
      "\u001b[36m592rjcqvcx-algo-1-50ulu |\u001b[0m 2023-03-04 08:38:04,020 sagemaker-training-toolkit INFO     Imported framework sagemaker_pytorch_container.training\n",
      "\u001b[36m592rjcqvcx-algo-1-50ulu |\u001b[0m 2023-03-04 08:38:04,086 sagemaker-training-toolkit INFO     No Neurons detected (normal if no neurons installed)\n",
      "\u001b[36m592rjcqvcx-algo-1-50ulu |\u001b[0m 2023-03-04 08:38:04,096 sagemaker-training-toolkit INFO     instance_groups entry not present in resource_config\n",
      "\u001b[36m592rjcqvcx-algo-1-50ulu |\u001b[0m 2023-03-04 08:38:04,099 sagemaker_pytorch_container.training INFO     Block until all host DNS lookups succeed.\n",
      "\u001b[36m592rjcqvcx-algo-1-50ulu |\u001b[0m 2023-03-04 08:38:04,102 sagemaker_pytorch_container.training INFO     Invoking user training script.\n",
      "\u001b[36m592rjcqvcx-algo-1-50ulu |\u001b[0m 2023-03-04 08:38:06,238 sagemaker-training-toolkit ERROR    Reporting training FAILURE\n",
      "\u001b[36m592rjcqvcx-algo-1-50ulu |\u001b[0m 2023-03-04 08:38:06,238 sagemaker-training-toolkit ERROR    Framework Error: \n",
      "\u001b[36m592rjcqvcx-algo-1-50ulu |\u001b[0m Traceback (most recent call last):\n",
      "\u001b[36m592rjcqvcx-algo-1-50ulu |\u001b[0m   File \"/opt/conda/lib/python3.8/site-packages/sagemaker_training/trainer.py\", line 88, in train\n",
      "\u001b[36m592rjcqvcx-algo-1-50ulu |\u001b[0m     entrypoint()\n",
      "\u001b[36m592rjcqvcx-algo-1-50ulu |\u001b[0m   File \"/opt/conda/lib/python3.8/site-packages/sagemaker_pytorch_container/training.py\", line 153, in main\n",
      "\u001b[36m592rjcqvcx-algo-1-50ulu |\u001b[0m     train(environment.Environment())\n",
      "\u001b[36m592rjcqvcx-algo-1-50ulu |\u001b[0m   File \"/opt/conda/lib/python3.8/site-packages/sagemaker_pytorch_container/training.py\", line 100, in train\n",
      "\u001b[36m592rjcqvcx-algo-1-50ulu |\u001b[0m     entry_point.run(uri=training_environment.module_dir,\n",
      "\u001b[36m592rjcqvcx-algo-1-50ulu |\u001b[0m   File \"/opt/conda/lib/python3.8/site-packages/sagemaker_training/entry_point.py\", line 92, in run\n",
      "\u001b[36m592rjcqvcx-algo-1-50ulu |\u001b[0m     files.download_and_extract(uri=uri, path=environment.code_dir)\n",
      "\u001b[36m592rjcqvcx-algo-1-50ulu |\u001b[0m   File \"/opt/conda/lib/python3.8/site-packages/sagemaker_training/files.py\", line 138, in download_and_extract\n",
      "\u001b[36m592rjcqvcx-algo-1-50ulu |\u001b[0m     s3_download(uri, dst)\n",
      "\u001b[36m592rjcqvcx-algo-1-50ulu |\u001b[0m   File \"/opt/conda/lib/python3.8/site-packages/sagemaker_training/files.py\", line 174, in s3_download\n",
      "\u001b[36m592rjcqvcx-algo-1-50ulu |\u001b[0m     s3.Bucket(bucket).download_file(key, dst)\n",
      "\u001b[36m592rjcqvcx-algo-1-50ulu |\u001b[0m   File \"/opt/conda/lib/python3.8/site-packages/boto3/s3/inject.py\", line 277, in bucket_download_file\n",
      "\u001b[36m592rjcqvcx-algo-1-50ulu |\u001b[0m     return self.meta.client.download_file(\n",
      "\u001b[36m592rjcqvcx-algo-1-50ulu |\u001b[0m   File \"/opt/conda/lib/python3.8/site-packages/boto3/s3/inject.py\", line 190, in download_file\n",
      "\u001b[36m592rjcqvcx-algo-1-50ulu |\u001b[0m     return transfer.download_file(\n",
      "\u001b[36m592rjcqvcx-algo-1-50ulu |\u001b[0m   File \"/opt/conda/lib/python3.8/site-packages/boto3/s3/transfer.py\", line 326, in download_file\n",
      "\u001b[36m592rjcqvcx-algo-1-50ulu |\u001b[0m     future.result()\n",
      "\u001b[36m592rjcqvcx-algo-1-50ulu |\u001b[0m   File \"/opt/conda/lib/python3.8/site-packages/s3transfer/futures.py\", line 103, in result\n",
      "\u001b[36m592rjcqvcx-algo-1-50ulu |\u001b[0m     return self._coordinator.result()\n",
      "\u001b[36m592rjcqvcx-algo-1-50ulu |\u001b[0m   File \"/opt/conda/lib/python3.8/site-packages/s3transfer/futures.py\", line 266, in result\n",
      "\u001b[36m592rjcqvcx-algo-1-50ulu |\u001b[0m     raise self._exception\n",
      "\u001b[36m592rjcqvcx-algo-1-50ulu |\u001b[0m   File \"/opt/conda/lib/python3.8/site-packages/s3transfer/tasks.py\", line 269, in _main\n",
      "\u001b[36m592rjcqvcx-algo-1-50ulu |\u001b[0m     self._submit(transfer_future=transfer_future, **kwargs)\n",
      "\u001b[36m592rjcqvcx-algo-1-50ulu |\u001b[0m   File \"/opt/conda/lib/python3.8/site-packages/s3transfer/download.py\", line 354, in _submit\n",
      "\u001b[36m592rjcqvcx-algo-1-50ulu |\u001b[0m     response = client.head_object(\n",
      "\u001b[36m592rjcqvcx-algo-1-50ulu |\u001b[0m   File \"/opt/conda/lib/python3.8/site-packages/botocore/client.py\", line 530, in _api_call\n",
      "\u001b[36m592rjcqvcx-algo-1-50ulu |\u001b[0m     return self._make_api_call(operation_name, kwargs)\n",
      "\u001b[36m592rjcqvcx-algo-1-50ulu |\u001b[0m   File \"/opt/conda/lib/python3.8/site-packages/botocore/client.py\", line 943, in _make_api_call\n",
      "\u001b[36m592rjcqvcx-algo-1-50ulu |\u001b[0m     http, parsed_response = self._make_request(\n",
      "\u001b[36m592rjcqvcx-algo-1-50ulu |\u001b[0m   File \"/opt/conda/lib/python3.8/site-packages/botocore/client.py\", line 966, in _make_request\n",
      "\u001b[36m592rjcqvcx-algo-1-50ulu |\u001b[0m     return self._endpoint.make_request(operation_model, request_dict)\n",
      "\u001b[36m592rjcqvcx-algo-1-50ulu |\u001b[0m   File \"/opt/conda/lib/python3.8/site-packages/botocore/endpoint.py\", line 119, in make_request\n",
      "\u001b[36m592rjcqvcx-algo-1-50ulu |\u001b[0m     return self._send_request(request_dict, operation_model)\n",
      "\u001b[36m592rjcqvcx-algo-1-50ulu |\u001b[0m   File \"/opt/conda/lib/python3.8/site-packages/botocore/endpoint.py\", line 198, in _send_request\n",
      "\u001b[36m592rjcqvcx-algo-1-50ulu |\u001b[0m     request = self.create_request(request_dict, operation_model)\n",
      "\u001b[36m592rjcqvcx-algo-1-50ulu |\u001b[0m   File \"/opt/conda/lib/python3.8/site-packages/botocore/endpoint.py\", line 134, in create_request\n",
      "\u001b[36m592rjcqvcx-algo-1-50ulu |\u001b[0m     self._event_emitter.emit(\n",
      "\u001b[36m592rjcqvcx-algo-1-50ulu |\u001b[0m   File \"/opt/conda/lib/python3.8/site-packages/botocore/hooks.py\", line 412, in emit\n",
      "\u001b[36m592rjcqvcx-algo-1-50ulu |\u001b[0m     return self._emitter.emit(aliased_event_name, **kwargs)\n",
      "\u001b[36m592rjcqvcx-algo-1-50ulu |\u001b[0m   File \"/opt/conda/lib/python3.8/site-packages/botocore/hooks.py\", line 256, in emit\n",
      "\u001b[36m592rjcqvcx-algo-1-50ulu |\u001b[0m     return self._emit(event_name, kwargs)\n",
      "\u001b[36m592rjcqvcx-algo-1-50ulu |\u001b[0m   File \"/opt/conda/lib/python3.8/site-packages/botocore/hooks.py\", line 239, in _emit\n",
      "\u001b[36m592rjcqvcx-algo-1-50ulu |\u001b[0m     response = handler(**kwargs)\n",
      "\u001b[36m592rjcqvcx-algo-1-50ulu |\u001b[0m   File \"/opt/conda/lib/python3.8/site-packages/botocore/signers.py\", line 105, in handler\n",
      "\u001b[36m592rjcqvcx-algo-1-50ulu |\u001b[0m     return self.sign(operation_name, request)\n",
      "\u001b[36m592rjcqvcx-algo-1-50ulu |\u001b[0m   File \"/opt/conda/lib/python3.8/site-packages/botocore/signers.py\", line 189, in sign\n",
      "\u001b[36m592rjcqvcx-algo-1-50ulu |\u001b[0m     auth.add_auth(request)\n",
      "\u001b[36m592rjcqvcx-algo-1-50ulu |\u001b[0m   File \"/opt/conda/lib/python3.8/site-packages/botocore/auth.py\", line 418, in add_auth\n",
      "\u001b[36m592rjcqvcx-algo-1-50ulu |\u001b[0m     raise NoCredentialsError()\n",
      "\u001b[36m592rjcqvcx-algo-1-50ulu |\u001b[0m botocore.exceptions.NoCredentialsError: Unable to locate credentials\n",
      "\u001b[36m592rjcqvcx-algo-1-50ulu |\u001b[0m \n",
      "\u001b[36m592rjcqvcx-algo-1-50ulu |\u001b[0m Unable to locate credentials\n",
      "\u001b[36m592rjcqvcx-algo-1-50ulu |\u001b[0m 2023-03-04 08:38:06,238 sagemaker-training-toolkit ERROR    Encountered exit_code 1\n",
      "\u001b[36m592rjcqvcx-algo-1-50ulu exited with code 1\n",
      "\u001b[0m1\n",
      "Aborting on container exit...\n"
     ]
    },
    {
     "ename": "RuntimeError",
     "evalue": "Failed to run: ['docker-compose', '-f', '/home/ec2-user/SageMaker/.docker/tmp6veafdws/docker-compose.yaml', 'up', '--build', '--abort-on-container-exit'], Process exited with code: 1",
     "output_type": "error",
     "traceback": [
      "\u001b[0;31m---------------------------------------------------------------------------\u001b[0m",
      "\u001b[0;31mRuntimeError\u001b[0m                              Traceback (most recent call last)",
      "\u001b[0;32m~/anaconda3/envs/python3/lib/python3.8/site-packages/sagemaker/local/image.py\u001b[0m in \u001b[0;36mtrain\u001b[0;34m(self, input_data_config, output_data_config, hyperparameters, environment, job_name)\u001b[0m\n\u001b[1;32m    247\u001b[0m         \u001b[0;32mtry\u001b[0m\u001b[0;34m:\u001b[0m\u001b[0;34m\u001b[0m\u001b[0;34m\u001b[0m\u001b[0m\n\u001b[0;32m--> 248\u001b[0;31m             \u001b[0m_stream_output\u001b[0m\u001b[0;34m(\u001b[0m\u001b[0mprocess\u001b[0m\u001b[0;34m)\u001b[0m\u001b[0;34m\u001b[0m\u001b[0;34m\u001b[0m\u001b[0m\n\u001b[0m\u001b[1;32m    249\u001b[0m         \u001b[0;32mexcept\u001b[0m \u001b[0mRuntimeError\u001b[0m \u001b[0;32mas\u001b[0m \u001b[0me\u001b[0m\u001b[0;34m:\u001b[0m\u001b[0;34m\u001b[0m\u001b[0;34m\u001b[0m\u001b[0m\n",
      "\u001b[0;32m~/anaconda3/envs/python3/lib/python3.8/site-packages/sagemaker/local/image.py\u001b[0m in \u001b[0;36m_stream_output\u001b[0;34m(process)\u001b[0m\n\u001b[1;32m    915\u001b[0m     \u001b[0;32mif\u001b[0m \u001b[0mexit_code\u001b[0m \u001b[0;34m!=\u001b[0m \u001b[0;36m0\u001b[0m\u001b[0;34m:\u001b[0m\u001b[0;34m\u001b[0m\u001b[0;34m\u001b[0m\u001b[0m\n\u001b[0;32m--> 916\u001b[0;31m         \u001b[0;32mraise\u001b[0m \u001b[0mRuntimeError\u001b[0m\u001b[0;34m(\u001b[0m\u001b[0;34m\"Process exited with code: %s\"\u001b[0m \u001b[0;34m%\u001b[0m \u001b[0mexit_code\u001b[0m\u001b[0;34m)\u001b[0m\u001b[0;34m\u001b[0m\u001b[0;34m\u001b[0m\u001b[0m\n\u001b[0m\u001b[1;32m    917\u001b[0m \u001b[0;34m\u001b[0m\u001b[0m\n",
      "\u001b[0;31mRuntimeError\u001b[0m: Process exited with code: 1",
      "\nDuring handling of the above exception, another exception occurred:\n",
      "\u001b[0;31mRuntimeError\u001b[0m                              Traceback (most recent call last)",
      "\u001b[0;32m/tmp/ipykernel_46281/3807642560.py\u001b[0m in \u001b[0;36m<cell line: 20>\u001b[0;34m()\u001b[0m\n\u001b[1;32m     18\u001b[0m \u001b[0;34m\u001b[0m\u001b[0m\n\u001b[1;32m     19\u001b[0m )\n\u001b[0;32m---> 20\u001b[0;31m \u001b[0mlocal_estimator\u001b[0m\u001b[0;34m.\u001b[0m\u001b[0mfit\u001b[0m\u001b[0;34m(\u001b[0m\u001b[0;34m)\u001b[0m\u001b[0;34m\u001b[0m\u001b[0;34m\u001b[0m\u001b[0m\n\u001b[0m",
      "\u001b[0;32m~/anaconda3/envs/python3/lib/python3.8/site-packages/sagemaker/workflow/pipeline_context.py\u001b[0m in \u001b[0;36mwrapper\u001b[0;34m(*args, **kwargs)\u001b[0m\n\u001b[1;32m    270\u001b[0m             \u001b[0;32mreturn\u001b[0m \u001b[0m_StepArguments\u001b[0m\u001b[0;34m(\u001b[0m\u001b[0mretrieve_caller_name\u001b[0m\u001b[0;34m(\u001b[0m\u001b[0mself_instance\u001b[0m\u001b[0;34m)\u001b[0m\u001b[0;34m,\u001b[0m \u001b[0mrun_func\u001b[0m\u001b[0;34m,\u001b[0m \u001b[0;34m*\u001b[0m\u001b[0margs\u001b[0m\u001b[0;34m,\u001b[0m \u001b[0;34m**\u001b[0m\u001b[0mkwargs\u001b[0m\u001b[0;34m)\u001b[0m\u001b[0;34m\u001b[0m\u001b[0;34m\u001b[0m\u001b[0m\n\u001b[1;32m    271\u001b[0m \u001b[0;34m\u001b[0m\u001b[0m\n\u001b[0;32m--> 272\u001b[0;31m         \u001b[0;32mreturn\u001b[0m \u001b[0mrun_func\u001b[0m\u001b[0;34m(\u001b[0m\u001b[0;34m*\u001b[0m\u001b[0margs\u001b[0m\u001b[0;34m,\u001b[0m \u001b[0;34m**\u001b[0m\u001b[0mkwargs\u001b[0m\u001b[0;34m)\u001b[0m\u001b[0;34m\u001b[0m\u001b[0;34m\u001b[0m\u001b[0m\n\u001b[0m\u001b[1;32m    273\u001b[0m \u001b[0;34m\u001b[0m\u001b[0m\n\u001b[1;32m    274\u001b[0m     \u001b[0;32mreturn\u001b[0m \u001b[0mwrapper\u001b[0m\u001b[0;34m\u001b[0m\u001b[0;34m\u001b[0m\u001b[0m\n",
      "\u001b[0;32m~/anaconda3/envs/python3/lib/python3.8/site-packages/sagemaker/estimator.py\u001b[0m in \u001b[0;36mfit\u001b[0;34m(self, inputs, wait, logs, job_name, experiment_config)\u001b[0m\n\u001b[1;32m   1123\u001b[0m         \u001b[0mself\u001b[0m\u001b[0;34m.\u001b[0m\u001b[0m_prepare_for_training\u001b[0m\u001b[0;34m(\u001b[0m\u001b[0mjob_name\u001b[0m\u001b[0;34m=\u001b[0m\u001b[0mjob_name\u001b[0m\u001b[0;34m)\u001b[0m\u001b[0;34m\u001b[0m\u001b[0;34m\u001b[0m\u001b[0m\n\u001b[1;32m   1124\u001b[0m \u001b[0;34m\u001b[0m\u001b[0m\n\u001b[0;32m-> 1125\u001b[0;31m         \u001b[0mself\u001b[0m\u001b[0;34m.\u001b[0m\u001b[0mlatest_training_job\u001b[0m \u001b[0;34m=\u001b[0m \u001b[0m_TrainingJob\u001b[0m\u001b[0;34m.\u001b[0m\u001b[0mstart_new\u001b[0m\u001b[0;34m(\u001b[0m\u001b[0mself\u001b[0m\u001b[0;34m,\u001b[0m \u001b[0minputs\u001b[0m\u001b[0;34m,\u001b[0m \u001b[0mexperiment_config\u001b[0m\u001b[0;34m)\u001b[0m\u001b[0;34m\u001b[0m\u001b[0;34m\u001b[0m\u001b[0m\n\u001b[0m\u001b[1;32m   1126\u001b[0m         \u001b[0mself\u001b[0m\u001b[0;34m.\u001b[0m\u001b[0mjobs\u001b[0m\u001b[0;34m.\u001b[0m\u001b[0mappend\u001b[0m\u001b[0;34m(\u001b[0m\u001b[0mself\u001b[0m\u001b[0;34m.\u001b[0m\u001b[0mlatest_training_job\u001b[0m\u001b[0;34m)\u001b[0m\u001b[0;34m\u001b[0m\u001b[0;34m\u001b[0m\u001b[0m\n\u001b[1;32m   1127\u001b[0m         \u001b[0;32mif\u001b[0m \u001b[0mwait\u001b[0m\u001b[0;34m:\u001b[0m\u001b[0;34m\u001b[0m\u001b[0;34m\u001b[0m\u001b[0m\n",
      "\u001b[0;32m~/anaconda3/envs/python3/lib/python3.8/site-packages/sagemaker/estimator.py\u001b[0m in \u001b[0;36mstart_new\u001b[0;34m(cls, estimator, inputs, experiment_config)\u001b[0m\n\u001b[1;32m   2040\u001b[0m         \u001b[0mtrain_args\u001b[0m \u001b[0;34m=\u001b[0m \u001b[0mcls\u001b[0m\u001b[0;34m.\u001b[0m\u001b[0m_get_train_args\u001b[0m\u001b[0;34m(\u001b[0m\u001b[0mestimator\u001b[0m\u001b[0;34m,\u001b[0m \u001b[0minputs\u001b[0m\u001b[0;34m,\u001b[0m \u001b[0mexperiment_config\u001b[0m\u001b[0;34m)\u001b[0m\u001b[0;34m\u001b[0m\u001b[0;34m\u001b[0m\u001b[0m\n\u001b[1;32m   2041\u001b[0m \u001b[0;34m\u001b[0m\u001b[0m\n\u001b[0;32m-> 2042\u001b[0;31m         \u001b[0mestimator\u001b[0m\u001b[0;34m.\u001b[0m\u001b[0msagemaker_session\u001b[0m\u001b[0;34m.\u001b[0m\u001b[0mtrain\u001b[0m\u001b[0;34m(\u001b[0m\u001b[0;34m**\u001b[0m\u001b[0mtrain_args\u001b[0m\u001b[0;34m)\u001b[0m\u001b[0;34m\u001b[0m\u001b[0;34m\u001b[0m\u001b[0m\n\u001b[0m\u001b[1;32m   2043\u001b[0m \u001b[0;34m\u001b[0m\u001b[0m\n\u001b[1;32m   2044\u001b[0m         \u001b[0;32mreturn\u001b[0m \u001b[0mcls\u001b[0m\u001b[0;34m(\u001b[0m\u001b[0mestimator\u001b[0m\u001b[0;34m.\u001b[0m\u001b[0msagemaker_session\u001b[0m\u001b[0;34m,\u001b[0m \u001b[0mestimator\u001b[0m\u001b[0;34m.\u001b[0m\u001b[0m_current_job_name\u001b[0m\u001b[0;34m)\u001b[0m\u001b[0;34m\u001b[0m\u001b[0;34m\u001b[0m\u001b[0m\n",
      "\u001b[0;32m~/anaconda3/envs/python3/lib/python3.8/site-packages/sagemaker/session.py\u001b[0m in \u001b[0;36mtrain\u001b[0;34m(self, input_mode, input_config, role, job_name, output_config, resource_config, vpc_config, hyperparameters, stop_condition, tags, metric_definitions, enable_network_isolation, image_uri, algorithm_arn, encrypt_inter_container_traffic, use_spot_instances, checkpoint_s3_uri, checkpoint_local_path, experiment_config, debugger_rule_configs, debugger_hook_config, tensorboard_output_config, enable_sagemaker_metrics, profiler_rule_configs, profiler_config, environment, retry_strategy)\u001b[0m\n\u001b[1;32m    611\u001b[0m             \u001b[0mself\u001b[0m\u001b[0;34m.\u001b[0m\u001b[0msagemaker_client\u001b[0m\u001b[0;34m.\u001b[0m\u001b[0mcreate_training_job\u001b[0m\u001b[0;34m(\u001b[0m\u001b[0;34m**\u001b[0m\u001b[0mrequest\u001b[0m\u001b[0;34m)\u001b[0m\u001b[0;34m\u001b[0m\u001b[0;34m\u001b[0m\u001b[0m\n\u001b[1;32m    612\u001b[0m \u001b[0;34m\u001b[0m\u001b[0m\n\u001b[0;32m--> 613\u001b[0;31m         \u001b[0mself\u001b[0m\u001b[0;34m.\u001b[0m\u001b[0m_intercept_create_request\u001b[0m\u001b[0;34m(\u001b[0m\u001b[0mtrain_request\u001b[0m\u001b[0;34m,\u001b[0m \u001b[0msubmit\u001b[0m\u001b[0;34m,\u001b[0m \u001b[0mself\u001b[0m\u001b[0;34m.\u001b[0m\u001b[0mtrain\u001b[0m\u001b[0;34m.\u001b[0m\u001b[0m__name__\u001b[0m\u001b[0;34m)\u001b[0m\u001b[0;34m\u001b[0m\u001b[0;34m\u001b[0m\u001b[0m\n\u001b[0m\u001b[1;32m    614\u001b[0m \u001b[0;34m\u001b[0m\u001b[0m\n\u001b[1;32m    615\u001b[0m     def _get_train_request(  # noqa: C901\n",
      "\u001b[0;32m~/anaconda3/envs/python3/lib/python3.8/site-packages/sagemaker/session.py\u001b[0m in \u001b[0;36m_intercept_create_request\u001b[0;34m(self, request, create, func_name)\u001b[0m\n\u001b[1;32m   4521\u001b[0m             \u001b[0mfunc_name\u001b[0m \u001b[0;34m(\u001b[0m\u001b[0mstr\u001b[0m\u001b[0;34m)\u001b[0m\u001b[0;34m:\u001b[0m \u001b[0mthe\u001b[0m \u001b[0mname\u001b[0m \u001b[0mof\u001b[0m \u001b[0mthe\u001b[0m \u001b[0mfunction\u001b[0m \u001b[0mneeded\u001b[0m \u001b[0mintercepting\u001b[0m\u001b[0;34m\u001b[0m\u001b[0;34m\u001b[0m\u001b[0m\n\u001b[1;32m   4522\u001b[0m         \"\"\"\n\u001b[0;32m-> 4523\u001b[0;31m         \u001b[0;32mreturn\u001b[0m \u001b[0mcreate\u001b[0m\u001b[0;34m(\u001b[0m\u001b[0mrequest\u001b[0m\u001b[0;34m)\u001b[0m\u001b[0;34m\u001b[0m\u001b[0;34m\u001b[0m\u001b[0m\n\u001b[0m\u001b[1;32m   4524\u001b[0m \u001b[0;34m\u001b[0m\u001b[0m\n\u001b[1;32m   4525\u001b[0m \u001b[0;34m\u001b[0m\u001b[0m\n",
      "\u001b[0;32m~/anaconda3/envs/python3/lib/python3.8/site-packages/sagemaker/session.py\u001b[0m in \u001b[0;36msubmit\u001b[0;34m(request)\u001b[0m\n\u001b[1;32m    609\u001b[0m             \u001b[0mLOGGER\u001b[0m\u001b[0;34m.\u001b[0m\u001b[0minfo\u001b[0m\u001b[0;34m(\u001b[0m\u001b[0;34m\"Creating training-job with name: %s\"\u001b[0m\u001b[0;34m,\u001b[0m \u001b[0mjob_name\u001b[0m\u001b[0;34m)\u001b[0m\u001b[0;34m\u001b[0m\u001b[0;34m\u001b[0m\u001b[0m\n\u001b[1;32m    610\u001b[0m             \u001b[0mLOGGER\u001b[0m\u001b[0;34m.\u001b[0m\u001b[0mdebug\u001b[0m\u001b[0;34m(\u001b[0m\u001b[0;34m\"train request: %s\"\u001b[0m\u001b[0;34m,\u001b[0m \u001b[0mjson\u001b[0m\u001b[0;34m.\u001b[0m\u001b[0mdumps\u001b[0m\u001b[0;34m(\u001b[0m\u001b[0mrequest\u001b[0m\u001b[0;34m,\u001b[0m \u001b[0mindent\u001b[0m\u001b[0;34m=\u001b[0m\u001b[0;36m4\u001b[0m\u001b[0;34m)\u001b[0m\u001b[0;34m)\u001b[0m\u001b[0;34m\u001b[0m\u001b[0;34m\u001b[0m\u001b[0m\n\u001b[0;32m--> 611\u001b[0;31m             \u001b[0mself\u001b[0m\u001b[0;34m.\u001b[0m\u001b[0msagemaker_client\u001b[0m\u001b[0;34m.\u001b[0m\u001b[0mcreate_training_job\u001b[0m\u001b[0;34m(\u001b[0m\u001b[0;34m**\u001b[0m\u001b[0mrequest\u001b[0m\u001b[0;34m)\u001b[0m\u001b[0;34m\u001b[0m\u001b[0;34m\u001b[0m\u001b[0m\n\u001b[0m\u001b[1;32m    612\u001b[0m \u001b[0;34m\u001b[0m\u001b[0m\n\u001b[1;32m    613\u001b[0m         \u001b[0mself\u001b[0m\u001b[0;34m.\u001b[0m\u001b[0m_intercept_create_request\u001b[0m\u001b[0;34m(\u001b[0m\u001b[0mtrain_request\u001b[0m\u001b[0;34m,\u001b[0m \u001b[0msubmit\u001b[0m\u001b[0;34m,\u001b[0m \u001b[0mself\u001b[0m\u001b[0;34m.\u001b[0m\u001b[0mtrain\u001b[0m\u001b[0;34m.\u001b[0m\u001b[0m__name__\u001b[0m\u001b[0;34m)\u001b[0m\u001b[0;34m\u001b[0m\u001b[0;34m\u001b[0m\u001b[0m\n",
      "\u001b[0;32m~/anaconda3/envs/python3/lib/python3.8/site-packages/sagemaker/local/local_session.py\u001b[0m in \u001b[0;36mcreate_training_job\u001b[0;34m(self, TrainingJobName, AlgorithmSpecification, OutputDataConfig, ResourceConfig, InputDataConfig, Environment, **kwargs)\u001b[0m\n\u001b[1;32m    192\u001b[0m         \u001b[0mhyperparameters\u001b[0m \u001b[0;34m=\u001b[0m \u001b[0mkwargs\u001b[0m\u001b[0;34m[\u001b[0m\u001b[0;34m\"HyperParameters\"\u001b[0m\u001b[0;34m]\u001b[0m \u001b[0;32mif\u001b[0m \u001b[0;34m\"HyperParameters\"\u001b[0m \u001b[0;32min\u001b[0m \u001b[0mkwargs\u001b[0m \u001b[0;32melse\u001b[0m \u001b[0;34m{\u001b[0m\u001b[0;34m}\u001b[0m\u001b[0;34m\u001b[0m\u001b[0;34m\u001b[0m\u001b[0m\n\u001b[1;32m    193\u001b[0m         \u001b[0mlogger\u001b[0m\u001b[0;34m.\u001b[0m\u001b[0minfo\u001b[0m\u001b[0;34m(\u001b[0m\u001b[0;34m\"Starting training job\"\u001b[0m\u001b[0;34m)\u001b[0m\u001b[0;34m\u001b[0m\u001b[0;34m\u001b[0m\u001b[0m\n\u001b[0;32m--> 194\u001b[0;31m         training_job.start(\n\u001b[0m\u001b[1;32m    195\u001b[0m             \u001b[0mInputDataConfig\u001b[0m\u001b[0;34m,\u001b[0m \u001b[0mOutputDataConfig\u001b[0m\u001b[0;34m,\u001b[0m \u001b[0mhyperparameters\u001b[0m\u001b[0;34m,\u001b[0m \u001b[0mEnvironment\u001b[0m\u001b[0;34m,\u001b[0m \u001b[0mTrainingJobName\u001b[0m\u001b[0;34m\u001b[0m\u001b[0;34m\u001b[0m\u001b[0m\n\u001b[1;32m    196\u001b[0m         )\n",
      "\u001b[0;32m~/anaconda3/envs/python3/lib/python3.8/site-packages/sagemaker/local/entities.py\u001b[0m in \u001b[0;36mstart\u001b[0;34m(self, input_data_config, output_data_config, hyperparameters, environment, job_name)\u001b[0m\n\u001b[1;32m    241\u001b[0m         \u001b[0mself\u001b[0m\u001b[0;34m.\u001b[0m\u001b[0menvironment\u001b[0m \u001b[0;34m=\u001b[0m \u001b[0menvironment\u001b[0m\u001b[0;34m\u001b[0m\u001b[0;34m\u001b[0m\u001b[0m\n\u001b[1;32m    242\u001b[0m \u001b[0;34m\u001b[0m\u001b[0m\n\u001b[0;32m--> 243\u001b[0;31m         self.model_artifacts = self.container.train(\n\u001b[0m\u001b[1;32m    244\u001b[0m             \u001b[0minput_data_config\u001b[0m\u001b[0;34m,\u001b[0m \u001b[0moutput_data_config\u001b[0m\u001b[0;34m,\u001b[0m \u001b[0mhyperparameters\u001b[0m\u001b[0;34m,\u001b[0m \u001b[0menvironment\u001b[0m\u001b[0;34m,\u001b[0m \u001b[0mjob_name\u001b[0m\u001b[0;34m\u001b[0m\u001b[0;34m\u001b[0m\u001b[0m\n\u001b[1;32m    245\u001b[0m         )\n",
      "\u001b[0;32m~/anaconda3/envs/python3/lib/python3.8/site-packages/sagemaker/local/image.py\u001b[0m in \u001b[0;36mtrain\u001b[0;34m(self, input_data_config, output_data_config, hyperparameters, environment, job_name)\u001b[0m\n\u001b[1;32m    251\u001b[0m             \u001b[0;31m# which contains the exit code and append the command line to it.\u001b[0m\u001b[0;34m\u001b[0m\u001b[0;34m\u001b[0m\u001b[0;34m\u001b[0m\u001b[0m\n\u001b[1;32m    252\u001b[0m             \u001b[0mmsg\u001b[0m \u001b[0;34m=\u001b[0m \u001b[0;34m\"Failed to run: %s, %s\"\u001b[0m \u001b[0;34m%\u001b[0m \u001b[0;34m(\u001b[0m\u001b[0mcompose_command\u001b[0m\u001b[0;34m,\u001b[0m \u001b[0mstr\u001b[0m\u001b[0;34m(\u001b[0m\u001b[0me\u001b[0m\u001b[0;34m)\u001b[0m\u001b[0;34m)\u001b[0m\u001b[0;34m\u001b[0m\u001b[0;34m\u001b[0m\u001b[0m\n\u001b[0;32m--> 253\u001b[0;31m             \u001b[0;32mraise\u001b[0m \u001b[0mRuntimeError\u001b[0m\u001b[0;34m(\u001b[0m\u001b[0mmsg\u001b[0m\u001b[0;34m)\u001b[0m\u001b[0;34m\u001b[0m\u001b[0;34m\u001b[0m\u001b[0m\n\u001b[0m\u001b[1;32m    254\u001b[0m         \u001b[0;32mfinally\u001b[0m\u001b[0;34m:\u001b[0m\u001b[0;34m\u001b[0m\u001b[0;34m\u001b[0m\u001b[0m\n\u001b[1;32m    255\u001b[0m             \u001b[0martifacts\u001b[0m \u001b[0;34m=\u001b[0m \u001b[0mself\u001b[0m\u001b[0;34m.\u001b[0m\u001b[0mretrieve_artifacts\u001b[0m\u001b[0;34m(\u001b[0m\u001b[0mcompose_data\u001b[0m\u001b[0;34m,\u001b[0m \u001b[0moutput_data_config\u001b[0m\u001b[0;34m,\u001b[0m \u001b[0mjob_name\u001b[0m\u001b[0;34m)\u001b[0m\u001b[0;34m\u001b[0m\u001b[0;34m\u001b[0m\u001b[0m\n",
      "\u001b[0;31mRuntimeError\u001b[0m: Failed to run: ['docker-compose', '-f', '/home/ec2-user/SageMaker/.docker/tmp6veafdws/docker-compose.yaml', 'up', '--build', '--abort-on-container-exit'], Process exited with code: 1"
     ]
    }
   ],
   "source": [
    "from sagemaker.pytorch import PyTorch\n",
    "import os\n",
    "import subprocess\n",
    "\n",
    "# region = sagemaker_session.boto_region_name\n",
    "\n",
    "\n",
    "local_estimator = PyTorch(\n",
    "    entry_point=\"TFT_Train.py\",    \n",
    "    source_dir='scripts',    \n",
    "    role=role,\n",
    "    framework_version='1.12.1',    \n",
    "    py_version='py38',        \n",
    "    instance_count=1,\n",
    "    instance_type=instance_type, # local_gpu or local 지정\n",
    "    session = sagemaker.LocalSession(), # 로컬 세션을 사용합니다.\n",
    "    hyperparameters= hyperparameters               \n",
    "    \n",
    ")\n",
    "local_estimator.fit()"
   ]
  },
  {
   "cell_type": "markdown",
   "id": "e2c07adc-d09c-41b0-b695-5275163bb916",
   "metadata": {},
   "source": [
    "# 2. 훈련 코드를 직접 로컬에서 실행\n",
    "- --n_gpus {num_gpus} --epochs {epochs} 와 같은 파이라미터를 전달하여 실행 합니다.\n",
    "- 실행 완료 후에 model_dir 경로에 모델 가중치 파일이 저장 됩니다."
   ]
  },
  {
   "cell_type": "code",
   "execution_count": null,
   "id": "811536df-a0b1-4e8b-9e86-5bee8aedd412",
   "metadata": {
    "tags": []
   },
   "outputs": [],
   "source": [
    "# import sagemaker\n",
    "# from sagemaker.pytorch import PyTorch\n",
    "# from sagemaker.local import LocalSession\n",
    "\n",
    "# sagemaker_session = sagemaker.Session()\n",
    "# role = sagemaker.get_execution_role()\n",
    "# region = sagemaker_session.boto_region_name\n",
    "\n",
    "# # hard code point to the DLC images\n",
    "# image_uri = '763104351884.dkr.ecr.{}.amazonaws.com/pytorch-training:1.12.0-gpu-py38-cu113-ubuntu20.04-sagemaker'.format(region)\n",
    "\n",
    "# estimator = PyTorch(\n",
    "#   entry_point=\"mnist.py\",\n",
    "#   base_job_name=\"{}-ddp-mnist\".format(your_user_string),\n",
    "#   image_uri = image_uri,\n",
    "#   role=role,\n",
    "#   source_dir=\"scripts\",\n",
    "#   # configures the SageMaker training resource, you can increase as you need\n",
    "#   instance_count=1,\n",
    "#   instance_type=\"ml.g4dn.12xlarge\",\n",
    "#   py_version=\"py38\",\n",
    "#   sagemaker_session=sagemaker_session,\n",
    "#   distribution={\"pytorchddp\":{\"enabled\": True}},\n",
    "#   debugger_hook_config=False,\n",
    "#   #profiler_config=profiler_config,\n",
    "#   hyperparameters={\"batch_size\":32, \"epochs\":300},\n",
    "#   # enable warm pools for 20 minutes\n",
    "#   keep_alive_period_in_seconds = 20 *60)"
   ]
  },
  {
   "cell_type": "markdown",
   "id": "68fc8308-d46e-4017-82d4-5d5b0288b2c2",
   "metadata": {},
   "source": [
    "# 3. 모델 가중치 파일 확인"
   ]
  },
  {
   "cell_type": "code",
   "execution_count": null,
   "id": "aad560bd-200f-46af-8548-e4506cb55265",
   "metadata": {},
   "outputs": [],
   "source": [
    "os.listdir(model_dir)"
   ]
  },
  {
   "cell_type": "code",
   "execution_count": null,
   "id": "3564849c-9754-4a10-b417-86ec80a74d0f",
   "metadata": {},
   "outputs": [],
   "source": []
  }
 ],
 "metadata": {
  "kernelspec": {
   "display_name": "conda_python3",
   "language": "python",
   "name": "conda_python3"
  },
  "language_info": {
   "codemirror_mode": {
    "name": "ipython",
    "version": 3
   },
   "file_extension": ".py",
   "mimetype": "text/x-python",
   "name": "python",
   "nbconvert_exporter": "python",
   "pygments_lexer": "ipython3",
   "version": "3.8.12"
  }
 },
 "nbformat": 4,
 "nbformat_minor": 5
}
