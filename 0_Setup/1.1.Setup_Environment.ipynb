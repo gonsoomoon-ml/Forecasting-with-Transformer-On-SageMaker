{
 "cells": [
  {
   "cell_type": "code",
   "execution_count": 1,
   "id": "ae39d7e9-b763-4663-a847-31076aa24608",
   "metadata": {
    "tags": []
   },
   "outputs": [
    {
     "name": "stdout",
     "output_type": "stream",
     "text": [
      "Looking in indexes: https://pypi.org/simple, https://pip.repos.neuron.amazonaws.com\n",
      "Requirement already satisfied: pytorch-forecasting==0.10.3 in /home/ec2-user/anaconda3/envs/python3/lib/python3.8/site-packages (0.10.3)\n",
      "Requirement already satisfied: matplotlib in /home/ec2-user/anaconda3/envs/python3/lib/python3.8/site-packages (from pytorch-forecasting==0.10.3) (3.5.0)\n",
      "Requirement already satisfied: statsmodels in /home/ec2-user/anaconda3/envs/python3/lib/python3.8/site-packages (from pytorch-forecasting==0.10.3) (0.13.1)\n",
      "Requirement already satisfied: scikit-learn<1.2,>=0.24 in /home/ec2-user/anaconda3/envs/python3/lib/python3.8/site-packages (from pytorch-forecasting==0.10.3) (1.0.1)\n",
      "Requirement already satisfied: scipy<2.0,>=1.8 in /home/ec2-user/anaconda3/envs/python3/lib/python3.8/site-packages (from pytorch-forecasting==0.10.3) (1.10.1)\n",
      "Requirement already satisfied: pandas<2.0.0,>=1.3.0 in /home/ec2-user/anaconda3/envs/python3/lib/python3.8/site-packages (from pytorch-forecasting==0.10.3) (1.3.4)\n",
      "Requirement already satisfied: pytorch-lightning<2.0.0,>=1.2.4 in /home/ec2-user/anaconda3/envs/python3/lib/python3.8/site-packages (from pytorch-forecasting==0.10.3) (1.9.0)\n",
      "Requirement already satisfied: optuna<3.0.0,>=2.3.0 in /home/ec2-user/anaconda3/envs/python3/lib/python3.8/site-packages (from pytorch-forecasting==0.10.3) (2.10.1)\n",
      "Requirement already satisfied: torch<2.0,>=1.7 in /home/ec2-user/anaconda3/envs/python3/lib/python3.8/site-packages (from pytorch-forecasting==0.10.3) (1.12.1)\n",
      "Requirement already satisfied: colorlog in /home/ec2-user/anaconda3/envs/python3/lib/python3.8/site-packages (from optuna<3.0.0,>=2.3.0->pytorch-forecasting==0.10.3) (6.7.0)\n",
      "Requirement already satisfied: PyYAML in /home/ec2-user/anaconda3/envs/python3/lib/python3.8/site-packages (from optuna<3.0.0,>=2.3.0->pytorch-forecasting==0.10.3) (5.4.1)\n",
      "Requirement already satisfied: cliff in /home/ec2-user/anaconda3/envs/python3/lib/python3.8/site-packages (from optuna<3.0.0,>=2.3.0->pytorch-forecasting==0.10.3) (4.2.0)\n",
      "Requirement already satisfied: cmaes>=0.8.2 in /home/ec2-user/anaconda3/envs/python3/lib/python3.8/site-packages (from optuna<3.0.0,>=2.3.0->pytorch-forecasting==0.10.3) (0.9.1)\n",
      "Requirement already satisfied: alembic in /home/ec2-user/anaconda3/envs/python3/lib/python3.8/site-packages (from optuna<3.0.0,>=2.3.0->pytorch-forecasting==0.10.3) (1.9.4)\n",
      "Requirement already satisfied: sqlalchemy>=1.1.0 in /home/ec2-user/anaconda3/envs/python3/lib/python3.8/site-packages (from optuna<3.0.0,>=2.3.0->pytorch-forecasting==0.10.3) (1.4.27)\n",
      "Requirement already satisfied: tqdm in /home/ec2-user/anaconda3/envs/python3/lib/python3.8/site-packages (from optuna<3.0.0,>=2.3.0->pytorch-forecasting==0.10.3) (4.62.3)\n",
      "Requirement already satisfied: numpy in /home/ec2-user/anaconda3/envs/python3/lib/python3.8/site-packages (from optuna<3.0.0,>=2.3.0->pytorch-forecasting==0.10.3) (1.23.0)\n",
      "Requirement already satisfied: packaging>=20.0 in /home/ec2-user/anaconda3/envs/python3/lib/python3.8/site-packages (from optuna<3.0.0,>=2.3.0->pytorch-forecasting==0.10.3) (21.3)\n",
      "Requirement already satisfied: python-dateutil>=2.7.3 in /home/ec2-user/anaconda3/envs/python3/lib/python3.8/site-packages (from pandas<2.0.0,>=1.3.0->pytorch-forecasting==0.10.3) (2.8.2)\n",
      "Requirement already satisfied: pytz>=2017.3 in /home/ec2-user/anaconda3/envs/python3/lib/python3.8/site-packages (from pandas<2.0.0,>=1.3.0->pytorch-forecasting==0.10.3) (2021.3)\n",
      "Requirement already satisfied: lightning-utilities>=0.4.2 in /home/ec2-user/anaconda3/envs/python3/lib/python3.8/site-packages (from pytorch-lightning<2.0.0,>=1.2.4->pytorch-forecasting==0.10.3) (0.7.1)\n",
      "Requirement already satisfied: torchmetrics>=0.7.0 in /home/ec2-user/anaconda3/envs/python3/lib/python3.8/site-packages (from pytorch-lightning<2.0.0,>=1.2.4->pytorch-forecasting==0.10.3) (0.11.3)\n",
      "Requirement already satisfied: typing-extensions>=4.0.0 in /home/ec2-user/anaconda3/envs/python3/lib/python3.8/site-packages (from pytorch-lightning<2.0.0,>=1.2.4->pytorch-forecasting==0.10.3) (4.5.0)\n",
      "Requirement already satisfied: fsspec[http]>2021.06.0 in /home/ec2-user/anaconda3/envs/python3/lib/python3.8/site-packages (from pytorch-lightning<2.0.0,>=1.2.4->pytorch-forecasting==0.10.3) (2021.11.1)\n",
      "Requirement already satisfied: joblib>=0.11 in /home/ec2-user/anaconda3/envs/python3/lib/python3.8/site-packages (from scikit-learn<1.2,>=0.24->pytorch-forecasting==0.10.3) (1.2.0)\n",
      "Requirement already satisfied: threadpoolctl>=2.0.0 in /home/ec2-user/anaconda3/envs/python3/lib/python3.8/site-packages (from scikit-learn<1.2,>=0.24->pytorch-forecasting==0.10.3) (3.0.0)\n",
      "Requirement already satisfied: fonttools>=4.22.0 in /home/ec2-user/anaconda3/envs/python3/lib/python3.8/site-packages (from matplotlib->pytorch-forecasting==0.10.3) (4.28.2)\n",
      "Requirement already satisfied: kiwisolver>=1.0.1 in /home/ec2-user/anaconda3/envs/python3/lib/python3.8/site-packages (from matplotlib->pytorch-forecasting==0.10.3) (1.3.2)\n",
      "Requirement already satisfied: cycler>=0.10 in /home/ec2-user/anaconda3/envs/python3/lib/python3.8/site-packages (from matplotlib->pytorch-forecasting==0.10.3) (0.11.0)\n",
      "Requirement already satisfied: pillow>=6.2.0 in /home/ec2-user/anaconda3/envs/python3/lib/python3.8/site-packages (from matplotlib->pytorch-forecasting==0.10.3) (9.0.1)\n",
      "Requirement already satisfied: pyparsing>=2.2.1 in /home/ec2-user/anaconda3/envs/python3/lib/python3.8/site-packages (from matplotlib->pytorch-forecasting==0.10.3) (3.0.6)\n",
      "Requirement already satisfied: patsy>=0.5.2 in /home/ec2-user/anaconda3/envs/python3/lib/python3.8/site-packages (from statsmodels->pytorch-forecasting==0.10.3) (0.5.2)\n",
      "Requirement already satisfied: requests in /home/ec2-user/anaconda3/envs/python3/lib/python3.8/site-packages (from fsspec[http]>2021.06.0->pytorch-lightning<2.0.0,>=1.2.4->pytorch-forecasting==0.10.3) (2.26.0)\n",
      "Requirement already satisfied: aiohttp in /home/ec2-user/anaconda3/envs/python3/lib/python3.8/site-packages (from fsspec[http]>2021.06.0->pytorch-lightning<2.0.0,>=1.2.4->pytorch-forecasting==0.10.3) (3.8.1)\n",
      "Requirement already satisfied: six in /home/ec2-user/anaconda3/envs/python3/lib/python3.8/site-packages (from patsy>=0.5.2->statsmodels->pytorch-forecasting==0.10.3) (1.16.0)\n",
      "Requirement already satisfied: greenlet!=0.4.17 in /home/ec2-user/anaconda3/envs/python3/lib/python3.8/site-packages (from sqlalchemy>=1.1.0->optuna<3.0.0,>=2.3.0->pytorch-forecasting==0.10.3) (1.1.2)\n",
      "Requirement already satisfied: importlib-metadata in /home/ec2-user/anaconda3/envs/python3/lib/python3.8/site-packages (from alembic->optuna<3.0.0,>=2.3.0->pytorch-forecasting==0.10.3) (4.13.0)\n",
      "Requirement already satisfied: Mako in /home/ec2-user/anaconda3/envs/python3/lib/python3.8/site-packages (from alembic->optuna<3.0.0,>=2.3.0->pytorch-forecasting==0.10.3) (1.2.4)\n",
      "Requirement already satisfied: importlib-resources in /home/ec2-user/anaconda3/envs/python3/lib/python3.8/site-packages (from alembic->optuna<3.0.0,>=2.3.0->pytorch-forecasting==0.10.3) (5.4.0)\n",
      "Requirement already satisfied: autopage>=0.4.0 in /home/ec2-user/anaconda3/envs/python3/lib/python3.8/site-packages (from cliff->optuna<3.0.0,>=2.3.0->pytorch-forecasting==0.10.3) (0.5.1)\n",
      "Requirement already satisfied: stevedore>=2.0.1 in /home/ec2-user/anaconda3/envs/python3/lib/python3.8/site-packages (from cliff->optuna<3.0.0,>=2.3.0->pytorch-forecasting==0.10.3) (5.0.0)\n",
      "Requirement already satisfied: cmd2>=1.0.0 in /home/ec2-user/anaconda3/envs/python3/lib/python3.8/site-packages (from cliff->optuna<3.0.0,>=2.3.0->pytorch-forecasting==0.10.3) (2.4.3)\n",
      "Requirement already satisfied: PrettyTable>=0.7.2 in /home/ec2-user/anaconda3/envs/python3/lib/python3.8/site-packages (from cliff->optuna<3.0.0,>=2.3.0->pytorch-forecasting==0.10.3) (3.6.0)\n",
      "Requirement already satisfied: wcwidth>=0.1.7 in /home/ec2-user/anaconda3/envs/python3/lib/python3.8/site-packages (from cmd2>=1.0.0->cliff->optuna<3.0.0,>=2.3.0->pytorch-forecasting==0.10.3) (0.2.5)\n",
      "Requirement already satisfied: attrs>=16.3.0 in /home/ec2-user/anaconda3/envs/python3/lib/python3.8/site-packages (from cmd2>=1.0.0->cliff->optuna<3.0.0,>=2.3.0->pytorch-forecasting==0.10.3) (20.3.0)\n",
      "Requirement already satisfied: pyperclip>=1.6 in /home/ec2-user/anaconda3/envs/python3/lib/python3.8/site-packages (from cmd2>=1.0.0->cliff->optuna<3.0.0,>=2.3.0->pytorch-forecasting==0.10.3) (1.8.2)\n",
      "Requirement already satisfied: zipp>=0.5 in /home/ec2-user/anaconda3/envs/python3/lib/python3.8/site-packages (from importlib-metadata->alembic->optuna<3.0.0,>=2.3.0->pytorch-forecasting==0.10.3) (3.6.0)\n",
      "Requirement already satisfied: pbr!=2.1.0,>=2.0.0 in /home/ec2-user/anaconda3/envs/python3/lib/python3.8/site-packages (from stevedore>=2.0.1->cliff->optuna<3.0.0,>=2.3.0->pytorch-forecasting==0.10.3) (5.11.1)\n",
      "Requirement already satisfied: async-timeout<5.0,>=4.0.0a3 in /home/ec2-user/anaconda3/envs/python3/lib/python3.8/site-packages (from aiohttp->fsspec[http]>2021.06.0->pytorch-lightning<2.0.0,>=1.2.4->pytorch-forecasting==0.10.3) (4.0.1)\n",
      "Requirement already satisfied: yarl<2.0,>=1.0 in /home/ec2-user/anaconda3/envs/python3/lib/python3.8/site-packages (from aiohttp->fsspec[http]>2021.06.0->pytorch-lightning<2.0.0,>=1.2.4->pytorch-forecasting==0.10.3) (1.7.2)\n",
      "Requirement already satisfied: frozenlist>=1.1.1 in /home/ec2-user/anaconda3/envs/python3/lib/python3.8/site-packages (from aiohttp->fsspec[http]>2021.06.0->pytorch-lightning<2.0.0,>=1.2.4->pytorch-forecasting==0.10.3) (1.2.0)\n",
      "Requirement already satisfied: multidict<7.0,>=4.5 in /home/ec2-user/anaconda3/envs/python3/lib/python3.8/site-packages (from aiohttp->fsspec[http]>2021.06.0->pytorch-lightning<2.0.0,>=1.2.4->pytorch-forecasting==0.10.3) (5.2.0)\n",
      "Requirement already satisfied: aiosignal>=1.1.2 in /home/ec2-user/anaconda3/envs/python3/lib/python3.8/site-packages (from aiohttp->fsspec[http]>2021.06.0->pytorch-lightning<2.0.0,>=1.2.4->pytorch-forecasting==0.10.3) (1.2.0)\n",
      "Requirement already satisfied: charset-normalizer<3.0,>=2.0 in /home/ec2-user/anaconda3/envs/python3/lib/python3.8/site-packages (from aiohttp->fsspec[http]>2021.06.0->pytorch-lightning<2.0.0,>=1.2.4->pytorch-forecasting==0.10.3) (2.0.8)\n",
      "Requirement already satisfied: MarkupSafe>=0.9.2 in /home/ec2-user/anaconda3/envs/python3/lib/python3.8/site-packages (from Mako->alembic->optuna<3.0.0,>=2.3.0->pytorch-forecasting==0.10.3) (2.0.1)\n",
      "Requirement already satisfied: urllib3<1.27,>=1.21.1 in /home/ec2-user/anaconda3/envs/python3/lib/python3.8/site-packages (from requests->fsspec[http]>2021.06.0->pytorch-lightning<2.0.0,>=1.2.4->pytorch-forecasting==0.10.3) (1.26.8)\n",
      "Requirement already satisfied: idna<4,>=2.5 in /home/ec2-user/anaconda3/envs/python3/lib/python3.8/site-packages (from requests->fsspec[http]>2021.06.0->pytorch-lightning<2.0.0,>=1.2.4->pytorch-forecasting==0.10.3) (3.1)\n",
      "Requirement already satisfied: certifi>=2017.4.17 in /home/ec2-user/anaconda3/envs/python3/lib/python3.8/site-packages (from requests->fsspec[http]>2021.06.0->pytorch-lightning<2.0.0,>=1.2.4->pytorch-forecasting==0.10.3) (2021.10.8)\n",
      "Looking in indexes: https://pypi.org/simple, https://pip.repos.neuron.amazonaws.com\n",
      "Requirement already satisfied: pytorch_lightning==1.9.0 in /home/ec2-user/anaconda3/envs/python3/lib/python3.8/site-packages (1.9.0)\n",
      "Requirement already satisfied: numpy>=1.17.2 in /home/ec2-user/anaconda3/envs/python3/lib/python3.8/site-packages (from pytorch_lightning==1.9.0) (1.23.0)\n",
      "Requirement already satisfied: PyYAML>=5.4 in /home/ec2-user/anaconda3/envs/python3/lib/python3.8/site-packages (from pytorch_lightning==1.9.0) (5.4.1)\n",
      "Requirement already satisfied: torch>=1.10.0 in /home/ec2-user/anaconda3/envs/python3/lib/python3.8/site-packages (from pytorch_lightning==1.9.0) (1.12.1)\n",
      "Requirement already satisfied: typing-extensions>=4.0.0 in /home/ec2-user/anaconda3/envs/python3/lib/python3.8/site-packages (from pytorch_lightning==1.9.0) (4.5.0)\n",
      "Requirement already satisfied: tqdm>=4.57.0 in /home/ec2-user/anaconda3/envs/python3/lib/python3.8/site-packages (from pytorch_lightning==1.9.0) (4.62.3)\n",
      "Requirement already satisfied: packaging>=17.1 in /home/ec2-user/anaconda3/envs/python3/lib/python3.8/site-packages (from pytorch_lightning==1.9.0) (21.3)\n",
      "Requirement already satisfied: fsspec[http]>2021.06.0 in /home/ec2-user/anaconda3/envs/python3/lib/python3.8/site-packages (from pytorch_lightning==1.9.0) (2021.11.1)\n",
      "Requirement already satisfied: torchmetrics>=0.7.0 in /home/ec2-user/anaconda3/envs/python3/lib/python3.8/site-packages (from pytorch_lightning==1.9.0) (0.11.3)\n",
      "Requirement already satisfied: lightning-utilities>=0.4.2 in /home/ec2-user/anaconda3/envs/python3/lib/python3.8/site-packages (from pytorch_lightning==1.9.0) (0.7.1)\n",
      "Requirement already satisfied: requests in /home/ec2-user/anaconda3/envs/python3/lib/python3.8/site-packages (from fsspec[http]>2021.06.0->pytorch_lightning==1.9.0) (2.26.0)\n",
      "Requirement already satisfied: aiohttp in /home/ec2-user/anaconda3/envs/python3/lib/python3.8/site-packages (from fsspec[http]>2021.06.0->pytorch_lightning==1.9.0) (3.8.1)\n",
      "Requirement already satisfied: pyparsing!=3.0.5,>=2.0.2 in /home/ec2-user/anaconda3/envs/python3/lib/python3.8/site-packages (from packaging>=17.1->pytorch_lightning==1.9.0) (3.0.6)\n",
      "Requirement already satisfied: multidict<7.0,>=4.5 in /home/ec2-user/anaconda3/envs/python3/lib/python3.8/site-packages (from aiohttp->fsspec[http]>2021.06.0->pytorch_lightning==1.9.0) (5.2.0)\n",
      "Requirement already satisfied: aiosignal>=1.1.2 in /home/ec2-user/anaconda3/envs/python3/lib/python3.8/site-packages (from aiohttp->fsspec[http]>2021.06.0->pytorch_lightning==1.9.0) (1.2.0)\n",
      "Requirement already satisfied: charset-normalizer<3.0,>=2.0 in /home/ec2-user/anaconda3/envs/python3/lib/python3.8/site-packages (from aiohttp->fsspec[http]>2021.06.0->pytorch_lightning==1.9.0) (2.0.8)\n",
      "Requirement already satisfied: async-timeout<5.0,>=4.0.0a3 in /home/ec2-user/anaconda3/envs/python3/lib/python3.8/site-packages (from aiohttp->fsspec[http]>2021.06.0->pytorch_lightning==1.9.0) (4.0.1)\n",
      "Requirement already satisfied: yarl<2.0,>=1.0 in /home/ec2-user/anaconda3/envs/python3/lib/python3.8/site-packages (from aiohttp->fsspec[http]>2021.06.0->pytorch_lightning==1.9.0) (1.7.2)\n",
      "Requirement already satisfied: attrs>=17.3.0 in /home/ec2-user/anaconda3/envs/python3/lib/python3.8/site-packages (from aiohttp->fsspec[http]>2021.06.0->pytorch_lightning==1.9.0) (20.3.0)\n",
      "Requirement already satisfied: frozenlist>=1.1.1 in /home/ec2-user/anaconda3/envs/python3/lib/python3.8/site-packages (from aiohttp->fsspec[http]>2021.06.0->pytorch_lightning==1.9.0) (1.2.0)\n",
      "Requirement already satisfied: urllib3<1.27,>=1.21.1 in /home/ec2-user/anaconda3/envs/python3/lib/python3.8/site-packages (from requests->fsspec[http]>2021.06.0->pytorch_lightning==1.9.0) (1.26.8)\n",
      "Requirement already satisfied: idna<4,>=2.5 in /home/ec2-user/anaconda3/envs/python3/lib/python3.8/site-packages (from requests->fsspec[http]>2021.06.0->pytorch_lightning==1.9.0) (3.1)\n",
      "Requirement already satisfied: certifi>=2017.4.17 in /home/ec2-user/anaconda3/envs/python3/lib/python3.8/site-packages (from requests->fsspec[http]>2021.06.0->pytorch_lightning==1.9.0) (2021.10.8)\n",
      "Looking in indexes: https://pypi.org/simple, https://pip.repos.neuron.amazonaws.com\n",
      "Requirement already satisfied: torch==1.12.1 in /home/ec2-user/anaconda3/envs/python3/lib/python3.8/site-packages (1.12.1)\n",
      "Requirement already satisfied: typing-extensions in /home/ec2-user/anaconda3/envs/python3/lib/python3.8/site-packages (from torch==1.12.1) (4.5.0)\n",
      "Looking in indexes: https://pypi.org/simple, https://pip.repos.neuron.amazonaws.com\n",
      "Requirement already satisfied: sagemaker==2.118.0 in /home/ec2-user/anaconda3/envs/python3/lib/python3.8/site-packages (2.118.0)\n",
      "Requirement already satisfied: importlib-metadata<5.0,>=1.4.0 in /home/ec2-user/anaconda3/envs/python3/lib/python3.8/site-packages (from sagemaker==2.118.0) (4.13.0)\n",
      "Requirement already satisfied: pandas in /home/ec2-user/anaconda3/envs/python3/lib/python3.8/site-packages (from sagemaker==2.118.0) (1.3.4)\n",
      "Requirement already satisfied: google-pasta in /home/ec2-user/anaconda3/envs/python3/lib/python3.8/site-packages (from sagemaker==2.118.0) (0.2.0)\n",
      "Requirement already satisfied: pathos in /home/ec2-user/anaconda3/envs/python3/lib/python3.8/site-packages (from sagemaker==2.118.0) (0.2.8)\n",
      "Requirement already satisfied: smdebug-rulesconfig==1.0.1 in /home/ec2-user/anaconda3/envs/python3/lib/python3.8/site-packages (from sagemaker==2.118.0) (1.0.1)\n",
      "Requirement already satisfied: attrs<23,>=20.3.0 in /home/ec2-user/anaconda3/envs/python3/lib/python3.8/site-packages (from sagemaker==2.118.0) (20.3.0)\n",
      "Requirement already satisfied: boto3<2.0,>=1.26.20 in /home/ec2-user/anaconda3/envs/python3/lib/python3.8/site-packages (from sagemaker==2.118.0) (1.26.84)\n",
      "Requirement already satisfied: packaging>=20.0 in /home/ec2-user/anaconda3/envs/python3/lib/python3.8/site-packages (from sagemaker==2.118.0) (21.3)\n",
      "Requirement already satisfied: protobuf3-to-dict<1.0,>=0.1.5 in /home/ec2-user/anaconda3/envs/python3/lib/python3.8/site-packages (from sagemaker==2.118.0) (0.1.5)\n",
      "Requirement already satisfied: schema in /home/ec2-user/anaconda3/envs/python3/lib/python3.8/site-packages (from sagemaker==2.118.0) (0.7.5)\n",
      "Requirement already satisfied: protobuf<4.0,>=3.1 in /home/ec2-user/anaconda3/envs/python3/lib/python3.8/site-packages (from sagemaker==2.118.0) (3.20.3)\n",
      "Requirement already satisfied: numpy<2.0,>=1.9.0 in /home/ec2-user/anaconda3/envs/python3/lib/python3.8/site-packages (from sagemaker==2.118.0) (1.23.0)\n",
      "Requirement already satisfied: botocore<1.30.0,>=1.29.84 in /home/ec2-user/anaconda3/envs/python3/lib/python3.8/site-packages (from boto3<2.0,>=1.26.20->sagemaker==2.118.0) (1.29.84)\n",
      "Requirement already satisfied: s3transfer<0.7.0,>=0.6.0 in /home/ec2-user/anaconda3/envs/python3/lib/python3.8/site-packages (from boto3<2.0,>=1.26.20->sagemaker==2.118.0) (0.6.0)\n",
      "Requirement already satisfied: jmespath<2.0.0,>=0.7.1 in /home/ec2-user/anaconda3/envs/python3/lib/python3.8/site-packages (from boto3<2.0,>=1.26.20->sagemaker==2.118.0) (0.10.0)\n",
      "Requirement already satisfied: zipp>=0.5 in /home/ec2-user/anaconda3/envs/python3/lib/python3.8/site-packages (from importlib-metadata<5.0,>=1.4.0->sagemaker==2.118.0) (3.6.0)\n",
      "Requirement already satisfied: pyparsing!=3.0.5,>=2.0.2 in /home/ec2-user/anaconda3/envs/python3/lib/python3.8/site-packages (from packaging>=20.0->sagemaker==2.118.0) (3.0.6)\n",
      "Requirement already satisfied: six in /home/ec2-user/anaconda3/envs/python3/lib/python3.8/site-packages (from protobuf3-to-dict<1.0,>=0.1.5->sagemaker==2.118.0) (1.16.0)\n",
      "Requirement already satisfied: python-dateutil>=2.7.3 in /home/ec2-user/anaconda3/envs/python3/lib/python3.8/site-packages (from pandas->sagemaker==2.118.0) (2.8.2)\n",
      "Requirement already satisfied: pytz>=2017.3 in /home/ec2-user/anaconda3/envs/python3/lib/python3.8/site-packages (from pandas->sagemaker==2.118.0) (2021.3)\n",
      "Requirement already satisfied: dill>=0.3.4 in /home/ec2-user/anaconda3/envs/python3/lib/python3.8/site-packages (from pathos->sagemaker==2.118.0) (0.3.4)\n",
      "Requirement already satisfied: pox>=0.3.0 in /home/ec2-user/anaconda3/envs/python3/lib/python3.8/site-packages (from pathos->sagemaker==2.118.0) (0.3.0)\n",
      "Requirement already satisfied: ppft>=1.6.6.4 in /home/ec2-user/anaconda3/envs/python3/lib/python3.8/site-packages (from pathos->sagemaker==2.118.0) (1.6.6.4)\n",
      "Requirement already satisfied: multiprocess>=0.70.12 in /home/ec2-user/anaconda3/envs/python3/lib/python3.8/site-packages (from pathos->sagemaker==2.118.0) (0.70.12.2)\n",
      "Requirement already satisfied: contextlib2>=0.5.5 in /home/ec2-user/anaconda3/envs/python3/lib/python3.8/site-packages (from schema->sagemaker==2.118.0) (21.6.0)\n",
      "Requirement already satisfied: urllib3<1.27,>=1.25.4 in /home/ec2-user/anaconda3/envs/python3/lib/python3.8/site-packages (from botocore<1.30.0,>=1.29.84->boto3<2.0,>=1.26.20->sagemaker==2.118.0) (1.26.8)\n"
     ]
    }
   ],
   "source": [
    "! pip install pytorch-forecasting==0.10.3\n",
    "! pip install pytorch_lightning==1.9.0\n",
    "! pip install torch==1.12.1\n",
    "!pip install --upgrade sagemaker==2.118.0\n",
    "# ! pip install boto3 --upgrade\n",
    "# ! pip install botocore --upgrade"
   ]
  },
  {
   "cell_type": "code",
   "execution_count": 2,
   "id": "efc0b5e6-77bb-4a7a-8218-a25580292aeb",
   "metadata": {},
   "outputs": [
    {
     "name": "stdout",
     "output_type": "stream",
     "text": [
      "pytorch-forecasting                0.10.3\n",
      "pytorch-lightning                  1.9.0\n",
      "torch                              1.12.1\n",
      "torchmetrics                       0.11.3\n",
      "torchvision                        0.10.1\n",
      "sagemaker                          2.118.0\n",
      "sagemaker-experiments              0.1.39\n",
      "sagemaker-pyspark                  1.4.2\n",
      "aiobotocore                        2.0.1\n",
      "boto                               2.49.0\n",
      "boto3                              1.26.84\n",
      "botocore                           1.29.84\n"
     ]
    },
    {
     "name": "stderr",
     "output_type": "stream",
     "text": [
      "sh: line 1: pytorch-forecasting: command not found\n",
      "ERROR: Pipe to stdout was broken\n",
      "Exception ignored in: <_io.TextIOWrapper name='<stdout>' mode='w' encoding='utf-8'>\n",
      "BrokenPipeError: [Errno 32] Broken pipe\n"
     ]
    }
   ],
   "source": [
    "%%sh \n",
    "pip list | pytorch-forecasting\n",
    "pip list | grep torch\n",
    "pip list | grep sagemaker\n",
    "pip list | grep boto\n"
   ]
  },
  {
   "cell_type": "code",
   "execution_count": 3,
   "id": "0f664ec0-914a-4757-b749-e7722e5d0f83",
   "metadata": {},
   "outputs": [
    {
     "name": "stdout",
     "output_type": "stream",
     "text": [
      "nvidia-docker2 already installed. We are good to go!\n",
      "Redirecting to /bin/systemctl stop docker.service\n",
      "Warning: Stopping docker.service, but it can still be activated by:\n",
      "  docker.socket\n",
      "Redirecting to /bin/systemctl start docker.service\n",
      "Error: inet address is expected rather than \"dev\".\n",
      "SageMaker instance routing for Docker is ok. We are good to go!\n"
     ]
    }
   ],
   "source": [
    "! bash local_mode_setup.sh"
   ]
  },
  {
   "cell_type": "code",
   "execution_count": null,
   "id": "aef33970-f3d1-4f44-8547-e80a78a73ca8",
   "metadata": {},
   "outputs": [],
   "source": []
  }
 ],
 "metadata": {
  "kernelspec": {
   "display_name": "conda_python3",
   "language": "python",
   "name": "conda_python3"
  },
  "language_info": {
   "codemirror_mode": {
    "name": "ipython",
    "version": 3
   },
   "file_extension": ".py",
   "mimetype": "text/x-python",
   "name": "python",
   "nbconvert_exporter": "python",
   "pygments_lexer": "ipython3",
   "version": "3.8.12"
  }
 },
 "nbformat": 4,
 "nbformat_minor": 5
}
